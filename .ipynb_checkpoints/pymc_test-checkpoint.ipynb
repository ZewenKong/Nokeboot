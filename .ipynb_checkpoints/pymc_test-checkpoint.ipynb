{
 "cells": [
  {
   "cell_type": "code",
   "execution_count": 1,
   "id": "3c4b280e-4225-4522-a110-cbacb02f1f34",
   "metadata": {},
   "outputs": [],
   "source": [
    "import arviz as az\n",
    "import pandas as pd\n",
    "import matplotlib.pyplot as plt\n",
    "import numpy as np"
   ]
  },
  {
   "cell_type": "code",
   "execution_count": 2,
   "id": "4a0bda01-0db0-4cc2-aef6-8f7531003508",
   "metadata": {},
   "outputs": [],
   "source": [
    "# Generate good resolution figures\n",
    "%config InlineBackend.figure_format = 'retina'\n",
    "\n",
    "# Initialise random number generator\n",
    "RANDOM_SEED = 8927\n",
    "rng = np.random.default_rng(RANDOM_SEED)\n",
    "\n",
    "# az = arviz 贝叶斯模型分析库\n",
    "az.style.use(\"arviz-darkgrid\")"
   ]
  },
  {
   "cell_type": "code",
   "execution_count": 3,
   "id": "5609cdac-08a1-475f-be2f-ff526f847dcc",
   "metadata": {},
   "outputs": [],
   "source": [
    "# True parameter values\n",
    "# alpha, true intercept; sigma, standard deviation (for the noise)\n",
    "# beta, true coefficients (for the predictor variables)\n",
    "alpha, sigma = 1, 1\n",
    "beta = [1, 2.5]\n",
    "\n",
    "# Size of dataset\n",
    "size = 100\n",
    "\n",
    "# Predictor variable\n",
    "X1 = np.random.randn(size)\n",
    "X2 = np.random.randn(size) * 0.2\n",
    "\n",
    "# Simulate outcome variable\n",
    "Y = alpha + beta[0] * X1 + beta[1] * X2 + rng.normal(size=size) * sigma"
   ]
  },
  {
   "cell_type": "code",
   "execution_count": null,
   "id": "1209dd37-5a81-4dce-b612-69e718e93a8a",
   "metadata": {},
   "outputs": [],
   "source": []
  }
 ],
 "metadata": {
  "kernelspec": {
   "display_name": "Python 3 (ipykernel)",
   "language": "python",
   "name": "python3"
  },
  "language_info": {
   "codemirror_mode": {
    "name": "ipython",
    "version": 3
   },
   "file_extension": ".py",
   "mimetype": "text/x-python",
   "name": "python",
   "nbconvert_exporter": "python",
   "pygments_lexer": "ipython3",
   "version": "3.12.2"
  }
 },
 "nbformat": 4,
 "nbformat_minor": 5
}
